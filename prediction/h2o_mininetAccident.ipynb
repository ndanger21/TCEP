{
 "cells": [
  {
   "cell_type": "code",
   "execution_count": 5,
   "metadata": {
    "collapsed": true
   },
   "outputs": [
    {
     "name": "stdout",
     "output_type": "stream",
     "text": [
      "Checking whether there is an H2O instance running at http://localhost:54321 ..... not found.\n",
      "Attempting to start a local H2O server...\n",
      "  Java Version: openjdk version \"1.8.0_292\"; OpenJDK Runtime Environment (build 1.8.0_292-8u292-b10-0ubuntu1~18.04-b10); OpenJDK 64-Bit Server VM (build 25.292-b10, mixed mode)\n",
      "  Starting server from /usr/local/lib/python3.6/dist-packages/h2o/backend/bin/h2o.jar\n",
      "  Ice root: /tmp/tmpxj854he4\n",
      "  JVM stdout: /tmp/tmpxj854he4/h2o_unknownUser_started_from_python.out\n",
      "  JVM stderr: /tmp/tmpxj854he4/h2o_unknownUser_started_from_python.err\n",
      "  Server is running at http://127.0.0.1:54321\n",
      "Connecting to H2O server at http://127.0.0.1:54321 ... successful.\n"
     ]
    },
    {
     "data": {
      "text/plain": "--------------------------  ------------------------------------------------------------------\nH2O_cluster_uptime:         02 secs\nH2O_cluster_timezone:       Etc/GMT\nH2O_data_parsing_timezone:  UTC\nH2O_cluster_version:        3.32.1.3\nH2O_cluster_version_age:    15 days\nH2O_cluster_name:           H2O_from_python_unknownUser_m9it3i\nH2O_cluster_total_nodes:    1\nH2O_cluster_free_memory:    26.67 Gb\nH2O_cluster_total_cores:    24\nH2O_cluster_allowed_cores:  24\nH2O_cluster_status:         accepting new members, healthy\nH2O_connection_url:         http://127.0.0.1:54321\nH2O_connection_proxy:       {\"http\": null, \"https\": null}\nH2O_internal_security:      False\nH2O_API_Extensions:         Amazon S3, XGBoost, Algos, AutoML, Core V3, TargetEncoder, Core V4\nPython_version:             3.6.9 final\n--------------------------  ------------------------------------------------------------------",
      "text/html": "<div style=\"overflow:auto\"><table style=\"width:50%\"><tr><td>H2O_cluster_uptime:</td>\n<td>02 secs</td></tr>\n<tr><td>H2O_cluster_timezone:</td>\n<td>Etc/GMT</td></tr>\n<tr><td>H2O_data_parsing_timezone:</td>\n<td>UTC</td></tr>\n<tr><td>H2O_cluster_version:</td>\n<td>3.32.1.3</td></tr>\n<tr><td>H2O_cluster_version_age:</td>\n<td>15 days </td></tr>\n<tr><td>H2O_cluster_name:</td>\n<td>H2O_from_python_unknownUser_m9it3i</td></tr>\n<tr><td>H2O_cluster_total_nodes:</td>\n<td>1</td></tr>\n<tr><td>H2O_cluster_free_memory:</td>\n<td>26.67 Gb</td></tr>\n<tr><td>H2O_cluster_total_cores:</td>\n<td>24</td></tr>\n<tr><td>H2O_cluster_allowed_cores:</td>\n<td>24</td></tr>\n<tr><td>H2O_cluster_status:</td>\n<td>accepting new members, healthy</td></tr>\n<tr><td>H2O_connection_url:</td>\n<td>http://127.0.0.1:54321</td></tr>\n<tr><td>H2O_connection_proxy:</td>\n<td>{\"http\": null, \"https\": null}</td></tr>\n<tr><td>H2O_internal_security:</td>\n<td>False</td></tr>\n<tr><td>H2O_API_Extensions:</td>\n<td>Amazon S3, XGBoost, Algos, AutoML, Core V3, TargetEncoder, Core V4</td></tr>\n<tr><td>Python_version:</td>\n<td>3.6.9 final</td></tr></table></div>"
     },
     "metadata": {},
     "output_type": "display_data"
    },
    {
     "name": "stdout",
     "output_type": "stream",
     "text": [
      "Parse progress: |█████████████████████████████████████████████████████████| 100%\n",
      "starting training at  03:26:37\n",
      "AutoML progress: |\n",
      "03:26:38.84: User specified a validation frame with cross-validation still enabled. Please note that the models will still be validated using cross-validation only, the validation frame will be used to provide purely informative validation metrics on the trained models.\n",
      "\n",
      "████████████████████████████████████████████████████████| 100%\n"
     ]
    },
    {
     "data": {
      "text/html": "<table>\n<thead>\n<tr><th>model_id                                           </th><th style=\"text-align: right;\">  mean_residual_deviance</th><th style=\"text-align: right;\">   rmse</th><th style=\"text-align: right;\">    mse</th><th style=\"text-align: right;\">    mae</th><th style=\"text-align: right;\">     rmsle</th></tr>\n</thead>\n<tbody>\n<tr><td>StackedEnsemble_AllModels_AutoML_20210604_032638   </td><td style=\"text-align: right;\">                 122.549</td><td style=\"text-align: right;\">11.0702</td><td style=\"text-align: right;\">122.549</td><td style=\"text-align: right;\">3.79995</td><td style=\"text-align: right;\">nan       </td></tr>\n<tr><td>StackedEnsemble_BestOfFamily_AutoML_20210604_032638</td><td style=\"text-align: right;\">                 147.697</td><td style=\"text-align: right;\">12.1531</td><td style=\"text-align: right;\">147.697</td><td style=\"text-align: right;\">4.17493</td><td style=\"text-align: right;\">nan       </td></tr>\n<tr><td>GBM_grid__1_AutoML_20210604_032638_model_14        </td><td style=\"text-align: right;\">                 167.533</td><td style=\"text-align: right;\">12.9435</td><td style=\"text-align: right;\">167.533</td><td style=\"text-align: right;\">4.07907</td><td style=\"text-align: right;\">nan       </td></tr>\n<tr><td>GBM_3_AutoML_20210604_032638                       </td><td style=\"text-align: right;\">                 168.977</td><td style=\"text-align: right;\">12.9991</td><td style=\"text-align: right;\">168.977</td><td style=\"text-align: right;\">4.71133</td><td style=\"text-align: right;\">nan       </td></tr>\n<tr><td>GBM_1_AutoML_20210604_032638                       </td><td style=\"text-align: right;\">                 171.856</td><td style=\"text-align: right;\">13.1094</td><td style=\"text-align: right;\">171.856</td><td style=\"text-align: right;\">4.226  </td><td style=\"text-align: right;\">  0.128585</td></tr>\n<tr><td>GBM_grid__1_AutoML_20210604_032638_model_17        </td><td style=\"text-align: right;\">                 176.078</td><td style=\"text-align: right;\">13.2694</td><td style=\"text-align: right;\">176.078</td><td style=\"text-align: right;\">4.50567</td><td style=\"text-align: right;\">nan       </td></tr>\n<tr><td>GBM_4_AutoML_20210604_032638                       </td><td style=\"text-align: right;\">                 179.214</td><td style=\"text-align: right;\">13.3871</td><td style=\"text-align: right;\">179.214</td><td style=\"text-align: right;\">4.69448</td><td style=\"text-align: right;\">nan       </td></tr>\n<tr><td>GBM_grid__1_AutoML_20210604_032638_model_3         </td><td style=\"text-align: right;\">                 182.11 </td><td style=\"text-align: right;\">13.4948</td><td style=\"text-align: right;\">182.11 </td><td style=\"text-align: right;\">3.9708 </td><td style=\"text-align: right;\">nan       </td></tr>\n<tr><td>GBM_2_AutoML_20210604_032638                       </td><td style=\"text-align: right;\">                 184.058</td><td style=\"text-align: right;\">13.5668</td><td style=\"text-align: right;\">184.058</td><td style=\"text-align: right;\">4.87755</td><td style=\"text-align: right;\">nan       </td></tr>\n<tr><td>XGBoost_2_AutoML_20210604_032638                   </td><td style=\"text-align: right;\">                 189.567</td><td style=\"text-align: right;\">13.7683</td><td style=\"text-align: right;\">189.567</td><td style=\"text-align: right;\">5.26526</td><td style=\"text-align: right;\">nan       </td></tr>\n</tbody>\n</table>"
     },
     "metadata": {},
     "output_type": "display_data"
    },
    {
     "name": "stdout",
     "output_type": "stream",
     "text": [
      "\n",
      "stackedensemble prediction progress: |████████████████████████████████████| 100%\n",
      "finished after  34.915311439999996\n"
     ]
    }
   ],
   "source": [
    "import os\n",
    "os.environ['OPENBLAS_NUM_THREADS'] = '1'\n",
    "\n",
    "import h2o\n",
    "from h2o.automl import H2OAutoML\n",
    "import matplotlib.pyplot as plt\n",
    "import time as time\n",
    "import datetime as datetime\n",
    "import sklearn.metrics\n",
    "if __name__ == \"__main__\":\n",
    "    hours = 4\n",
    "    time_secs = hours * 3600\n",
    "    target_feature = \"eventRateOut\"\n",
    "    filename = \"mininet-wifi_linearRoad_15s_combined_samples.csv\"\n",
    "\n",
    "    # keep target metrics\n",
    "    selected_features_throughput = [\"Relaxation\", \"Rizou\", \"ProducerConsumer\", \"Random\", \"GlobalOptimalBDP\", \"MDCEP\",\n",
    "                                    \"operatorSelectivity\", \"eventRateIn\", \"processingLatencyMean\", \"processingLatencyStdDev\",\n",
    "                                    \"networkParentLatencyMean\", \"brokerCPULoad\", \"eventRateOut\"]\n",
    "    selected_features_processing_latency = [\"Relaxation\", \"Rizou\", \"ProducerConsumer\", \"Random\", \"GlobalOptimalBDP\", \"MDCEP\",\n",
    "                                            \"eventSizeInKB\", \"operatorSelectivity\", \"interArrivalMean\", \"interArrivalStdDev\",\n",
    "                                            \"brokerCPULoad\", \"eventRateOut\", \"processingLatencyMean\"]\n",
    "\n",
    "    selected_dict = { \"eventRateOut\" : selected_features_throughput, \"processingLatencyMean\" : selected_features_processing_latency}\n",
    "\n",
    "    # requires JRE 8 at least\n",
    "    h2o.init(max_mem_size_GB=16)\n",
    "    df = h2o.import_file(filename, header=1)\n",
    "\n",
    "    start_time = time.time()\n",
    "    print(\"starting training at \", datetime.datetime.now().strftime('%H:%M:%S'))\n",
    "    df = df[selected_dict[target_feature]]\n",
    "    print(df)\n",
    "\n",
    "    d = df.split_frame(ratios = [0.66])\n",
    "    df_train = d[0] # using 66% for training\n",
    "    df_test = d[1] #rest 34% for testing\n",
    "    y_test = df_test[target_feature]\n",
    "    features = list(df.columns)\n",
    "    features.remove(target_feature)"
   ]
  },
  {
   "cell_type": "code",
   "execution_count": null,
   "outputs": [],
   "source": [
    "    automl = H2OAutoML(max_runtime_secs=time_secs,\n",
    "                       #export_checkpoints_dir='model_checkpoints',\n",
    "                       sort_metric='rmse')\n",
    "    automl.train(x = features, y = target_feature, training_frame = df_train, validation_frame = df_test)\n",
    "    end_time = time.time()\n",
    "    print(automl.leaderboard)"
   ],
   "metadata": {
    "collapsed": false,
    "pycharm": {
     "name": "#%%\n"
    }
   }
  },
  {
   "cell_type": "code",
   "execution_count": null,
   "outputs": [],
   "source": [
    "    predictions = automl.leader.predict(df_test)\n",
    "    predictions = h2o.as_list(predictions)\n",
    "    print(\"finished after \", end_time - start_time)\n",
    "\n",
    "    model_filename = 'output/h2o_trained_pipeline_' + str(hours) + '_' + filename + '_' + target_feature\n",
    "    # Get model ids for all models in the AutoML Leaderboard\n",
    "    model_ids = list(automl.leaderboard['model_id'].as_data_frame().iloc[:,0])\n",
    "    #print(model_ids)\n",
    "    print(model_ids[0])\n",
    "    target_idx = 0\n",
    "    if \"StackedEnsemble_AllModels\" in str(model_ids[0]):\n",
    "        target_idx = 1\n",
    "        target_id = model_ids[1]\n",
    "        print(\"saving the second best model if the stacked model with all models is best; too slow for production predictions, instead: \", target_id)\n",
    "    else:\n",
    "        target_id = model_ids[0]\n",
    "    h2o.save_model(h2o.get_model(target_id), path = model_filename)"
   ],
   "metadata": {
    "collapsed": false,
    "pycharm": {
     "name": "#%%\n"
    }
   }
  },
  {
   "cell_type": "code",
   "execution_count": null,
   "outputs": [],
   "source": [
    "    #lb = h2o.automl.get_leaderboard(automl, extra_columns = 'ALL')\n",
    "    #print(lb)\n",
    "\n",
    "    # Get the \"All Models\" Stacked Ensemble model\n",
    "    #se = h2o.get_model([mid for mid in model_ids if \"StackedEnsemble_AllModels\" in mid][0])\n",
    "    #print(se)\n",
    "    # Get the Stacked Ensemble metalearner model\n",
    "    #metalearner = h2o.get_model(se.metalearner()['name'])\n",
    "    #print(metalearner)\n",
    "    leaderboard_data = automl.leaderboard.as_data_frame()\n",
    "    #print(leaderboard_data)\n",
    "\n",
    "    mse = leaderboard_data[\"mse\"][target_idx]\n",
    "    rmse = leaderboard_data[\"rmse\"][target_idx]\n",
    "    mae = leaderboard_data[\"mae\"][target_idx]\n",
    "\n",
    "    print(\"mean squared error: \", mse)\n",
    "    print(\"root mean squared error: \", rmse)\n",
    "    print(\"mean absolute error: \", mae)\n",
    "\n",
    "    with open('h2o' + str(hours) + 'h_' + filename + '_' + target_feature + '_scores.csv', 'w') as sc:\n",
    "        sc.write('framework,training_time,target_metric,RMSE,MSE,MAE,mean_abs_percentage_error,median_abs_error,r2,pipeline\\n')\n",
    "        sc.write('h2o,' + str(hours) + ',' + target_feature + ',' + str(rmse) + ',' + str(mse) + ',' + str(mae) + ','\n",
    "                 + \"NaN\" + ',' + \"NaN\" + ',' + \"NaN\" + ',' + str(target_id))"
   ],
   "metadata": {
    "collapsed": false,
    "pycharm": {
     "name": "#%%\n"
    }
   }
  },
  {
   "cell_type": "code",
   "execution_count": null,
   "outputs": [],
   "source": [
    "    automl.explain(automl.leader)"
   ],
   "metadata": {
    "collapsed": false,
    "pycharm": {
     "name": "#%%\n"
    }
   }
  },
  {
   "cell_type": "code",
   "execution_count": 9,
   "outputs": [
    {
     "name": "stdout",
     "output_type": "stream",
     "text": [
      "2329 2329\n"
     ]
    },
    {
     "ename": "ValueError",
     "evalue": "Input could not be cast to an at-least-1D NumPy array",
     "output_type": "error",
     "traceback": [
      "\u001B[0;31m---------------------------------------------------------------------------\u001B[0m",
      "\u001B[0;31mValueError\u001B[0m                                Traceback (most recent call last)",
      "\u001B[0;32m<ipython-input-9-d2a3c9928d92>\u001B[0m in \u001B[0;36m<module>\u001B[0;34m\u001B[0m\n\u001B[1;32m      2\u001B[0m \u001B[0mprint\u001B[0m\u001B[0;34m(\u001B[0m\u001B[0mlen\u001B[0m\u001B[0;34m(\u001B[0m\u001B[0my_test\u001B[0m\u001B[0;34m)\u001B[0m\u001B[0;34m,\u001B[0m \u001B[0mlen\u001B[0m\u001B[0;34m(\u001B[0m\u001B[0mpredictions\u001B[0m\u001B[0;34m)\u001B[0m\u001B[0;34m)\u001B[0m\u001B[0;34m\u001B[0m\u001B[0;34m\u001B[0m\u001B[0m\n\u001B[1;32m      3\u001B[0m \u001B[0;31m#plt.plot(y_test.to_numpy()[:50], alpha=0.3, label=\"truth\", color=\"limegreen\")\u001B[0m\u001B[0;34m\u001B[0m\u001B[0;34m\u001B[0m\u001B[0;34m\u001B[0m\u001B[0m\n\u001B[0;32m----> 4\u001B[0;31m \u001B[0mplt\u001B[0m\u001B[0;34m.\u001B[0m\u001B[0mplot\u001B[0m\u001B[0;34m(\u001B[0m\u001B[0mpredictions\u001B[0m\u001B[0;34m[\u001B[0m\u001B[0;34m:\u001B[0m\u001B[0;36m50\u001B[0m\u001B[0;34m]\u001B[0m\u001B[0;34m,\u001B[0m \u001B[0malpha\u001B[0m\u001B[0;34m=\u001B[0m\u001B[0;36m0.3\u001B[0m\u001B[0;34m,\u001B[0m \u001B[0mlabel\u001B[0m\u001B[0;34m=\u001B[0m\u001B[0;34m\"predicted\"\u001B[0m\u001B[0;34m,\u001B[0m \u001B[0mcolor\u001B[0m\u001B[0;34m=\u001B[0m\u001B[0;34m\"red\"\u001B[0m\u001B[0;34m)\u001B[0m\u001B[0;34m\u001B[0m\u001B[0;34m\u001B[0m\u001B[0m\n\u001B[0m\u001B[1;32m      5\u001B[0m \u001B[0;31m#plt.semilogy()\u001B[0m\u001B[0;34m\u001B[0m\u001B[0;34m\u001B[0m\u001B[0;34m\u001B[0m\u001B[0m\n\u001B[1;32m      6\u001B[0m \u001B[0mplt\u001B[0m\u001B[0;34m.\u001B[0m\u001B[0mgrid\u001B[0m\u001B[0;34m(\u001B[0m\u001B[0;34m)\u001B[0m\u001B[0;34m\u001B[0m\u001B[0;34m\u001B[0m\u001B[0m\n",
      "\u001B[0;32m/usr/local/lib/python3.6/dist-packages/matplotlib/pyplot.py\u001B[0m in \u001B[0;36mplot\u001B[0;34m(scalex, scaley, data, *args, **kwargs)\u001B[0m\n\u001B[1;32m   2840\u001B[0m     return gca().plot(\n\u001B[1;32m   2841\u001B[0m         \u001B[0;34m*\u001B[0m\u001B[0margs\u001B[0m\u001B[0;34m,\u001B[0m \u001B[0mscalex\u001B[0m\u001B[0;34m=\u001B[0m\u001B[0mscalex\u001B[0m\u001B[0;34m,\u001B[0m \u001B[0mscaley\u001B[0m\u001B[0;34m=\u001B[0m\u001B[0mscaley\u001B[0m\u001B[0;34m,\u001B[0m\u001B[0;34m\u001B[0m\u001B[0;34m\u001B[0m\u001B[0m\n\u001B[0;32m-> 2842\u001B[0;31m         **({\"data\": data} if data is not None else {}), **kwargs)\n\u001B[0m\u001B[1;32m   2843\u001B[0m \u001B[0;34m\u001B[0m\u001B[0m\n\u001B[1;32m   2844\u001B[0m \u001B[0;34m\u001B[0m\u001B[0m\n",
      "\u001B[0;32m/usr/local/lib/python3.6/dist-packages/matplotlib/axes/_axes.py\u001B[0m in \u001B[0;36mplot\u001B[0;34m(self, scalex, scaley, data, *args, **kwargs)\u001B[0m\n\u001B[1;32m   1741\u001B[0m         \"\"\"\n\u001B[1;32m   1742\u001B[0m         \u001B[0mkwargs\u001B[0m \u001B[0;34m=\u001B[0m \u001B[0mcbook\u001B[0m\u001B[0;34m.\u001B[0m\u001B[0mnormalize_kwargs\u001B[0m\u001B[0;34m(\u001B[0m\u001B[0mkwargs\u001B[0m\u001B[0;34m,\u001B[0m \u001B[0mmlines\u001B[0m\u001B[0;34m.\u001B[0m\u001B[0mLine2D\u001B[0m\u001B[0;34m)\u001B[0m\u001B[0;34m\u001B[0m\u001B[0;34m\u001B[0m\u001B[0m\n\u001B[0;32m-> 1743\u001B[0;31m         \u001B[0mlines\u001B[0m \u001B[0;34m=\u001B[0m \u001B[0;34m[\u001B[0m\u001B[0;34m*\u001B[0m\u001B[0mself\u001B[0m\u001B[0;34m.\u001B[0m\u001B[0m_get_lines\u001B[0m\u001B[0;34m(\u001B[0m\u001B[0;34m*\u001B[0m\u001B[0margs\u001B[0m\u001B[0;34m,\u001B[0m \u001B[0mdata\u001B[0m\u001B[0;34m=\u001B[0m\u001B[0mdata\u001B[0m\u001B[0;34m,\u001B[0m \u001B[0;34m**\u001B[0m\u001B[0mkwargs\u001B[0m\u001B[0;34m)\u001B[0m\u001B[0;34m]\u001B[0m\u001B[0;34m\u001B[0m\u001B[0;34m\u001B[0m\u001B[0m\n\u001B[0m\u001B[1;32m   1744\u001B[0m         \u001B[0;32mfor\u001B[0m \u001B[0mline\u001B[0m \u001B[0;32min\u001B[0m \u001B[0mlines\u001B[0m\u001B[0;34m:\u001B[0m\u001B[0;34m\u001B[0m\u001B[0;34m\u001B[0m\u001B[0m\n\u001B[1;32m   1745\u001B[0m             \u001B[0mself\u001B[0m\u001B[0;34m.\u001B[0m\u001B[0madd_line\u001B[0m\u001B[0;34m(\u001B[0m\u001B[0mline\u001B[0m\u001B[0;34m)\u001B[0m\u001B[0;34m\u001B[0m\u001B[0;34m\u001B[0m\u001B[0m\n",
      "\u001B[0;32m/usr/local/lib/python3.6/dist-packages/matplotlib/axes/_base.py\u001B[0m in \u001B[0;36m__call__\u001B[0;34m(self, data, *args, **kwargs)\u001B[0m\n\u001B[1;32m    271\u001B[0m                 \u001B[0mthis\u001B[0m \u001B[0;34m+=\u001B[0m \u001B[0margs\u001B[0m\u001B[0;34m[\u001B[0m\u001B[0;36m0\u001B[0m\u001B[0;34m]\u001B[0m\u001B[0;34m,\u001B[0m\u001B[0;34m\u001B[0m\u001B[0;34m\u001B[0m\u001B[0m\n\u001B[1;32m    272\u001B[0m                 \u001B[0margs\u001B[0m \u001B[0;34m=\u001B[0m \u001B[0margs\u001B[0m\u001B[0;34m[\u001B[0m\u001B[0;36m1\u001B[0m\u001B[0;34m:\u001B[0m\u001B[0;34m]\u001B[0m\u001B[0;34m\u001B[0m\u001B[0;34m\u001B[0m\u001B[0m\n\u001B[0;32m--> 273\u001B[0;31m             \u001B[0;32myield\u001B[0m \u001B[0;32mfrom\u001B[0m \u001B[0mself\u001B[0m\u001B[0;34m.\u001B[0m\u001B[0m_plot_args\u001B[0m\u001B[0;34m(\u001B[0m\u001B[0mthis\u001B[0m\u001B[0;34m,\u001B[0m \u001B[0mkwargs\u001B[0m\u001B[0;34m)\u001B[0m\u001B[0;34m\u001B[0m\u001B[0;34m\u001B[0m\u001B[0m\n\u001B[0m\u001B[1;32m    274\u001B[0m \u001B[0;34m\u001B[0m\u001B[0m\n\u001B[1;32m    275\u001B[0m     \u001B[0;32mdef\u001B[0m \u001B[0mget_next_color\u001B[0m\u001B[0;34m(\u001B[0m\u001B[0mself\u001B[0m\u001B[0;34m)\u001B[0m\u001B[0;34m:\u001B[0m\u001B[0;34m\u001B[0m\u001B[0;34m\u001B[0m\u001B[0m\n",
      "\u001B[0;32m/usr/local/lib/python3.6/dist-packages/matplotlib/axes/_base.py\u001B[0m in \u001B[0;36m_plot_args\u001B[0;34m(self, tup, kwargs)\u001B[0m\n\u001B[1;32m    389\u001B[0m             \u001B[0my\u001B[0m \u001B[0;34m=\u001B[0m \u001B[0m_check_1d\u001B[0m\u001B[0;34m(\u001B[0m\u001B[0mtup\u001B[0m\u001B[0;34m[\u001B[0m\u001B[0;34m-\u001B[0m\u001B[0;36m1\u001B[0m\u001B[0;34m]\u001B[0m\u001B[0;34m)\u001B[0m\u001B[0;34m\u001B[0m\u001B[0;34m\u001B[0m\u001B[0m\n\u001B[1;32m    390\u001B[0m         \u001B[0;32melse\u001B[0m\u001B[0;34m:\u001B[0m\u001B[0;34m\u001B[0m\u001B[0;34m\u001B[0m\u001B[0m\n\u001B[0;32m--> 391\u001B[0;31m             \u001B[0mx\u001B[0m\u001B[0;34m,\u001B[0m \u001B[0my\u001B[0m \u001B[0;34m=\u001B[0m \u001B[0mindex_of\u001B[0m\u001B[0;34m(\u001B[0m\u001B[0mtup\u001B[0m\u001B[0;34m[\u001B[0m\u001B[0;34m-\u001B[0m\u001B[0;36m1\u001B[0m\u001B[0;34m]\u001B[0m\u001B[0;34m)\u001B[0m\u001B[0;34m\u001B[0m\u001B[0;34m\u001B[0m\u001B[0m\n\u001B[0m\u001B[1;32m    392\u001B[0m \u001B[0;34m\u001B[0m\u001B[0m\n\u001B[1;32m    393\u001B[0m         \u001B[0;32mif\u001B[0m \u001B[0mself\u001B[0m\u001B[0;34m.\u001B[0m\u001B[0maxes\u001B[0m\u001B[0;34m.\u001B[0m\u001B[0mxaxis\u001B[0m \u001B[0;32mis\u001B[0m \u001B[0;32mnot\u001B[0m \u001B[0;32mNone\u001B[0m\u001B[0;34m:\u001B[0m\u001B[0;34m\u001B[0m\u001B[0;34m\u001B[0m\u001B[0m\n",
      "\u001B[0;32m/usr/local/lib/python3.6/dist-packages/matplotlib/cbook/__init__.py\u001B[0m in \u001B[0;36mindex_of\u001B[0;34m(y)\u001B[0m\n\u001B[1;32m   1647\u001B[0m     \u001B[0;32melse\u001B[0m\u001B[0;34m:\u001B[0m\u001B[0;34m\u001B[0m\u001B[0;34m\u001B[0m\u001B[0m\n\u001B[1;32m   1648\u001B[0m         \u001B[0;32mreturn\u001B[0m \u001B[0mnp\u001B[0m\u001B[0;34m.\u001B[0m\u001B[0marange\u001B[0m\u001B[0;34m(\u001B[0m\u001B[0my\u001B[0m\u001B[0;34m.\u001B[0m\u001B[0mshape\u001B[0m\u001B[0;34m[\u001B[0m\u001B[0;36m0\u001B[0m\u001B[0;34m]\u001B[0m\u001B[0;34m,\u001B[0m \u001B[0mdtype\u001B[0m\u001B[0;34m=\u001B[0m\u001B[0mfloat\u001B[0m\u001B[0;34m)\u001B[0m\u001B[0;34m,\u001B[0m \u001B[0my\u001B[0m\u001B[0;34m\u001B[0m\u001B[0;34m\u001B[0m\u001B[0m\n\u001B[0;32m-> 1649\u001B[0;31m     \u001B[0;32mraise\u001B[0m \u001B[0mValueError\u001B[0m\u001B[0;34m(\u001B[0m\u001B[0;34m'Input could not be cast to an at-least-1D NumPy array'\u001B[0m\u001B[0;34m)\u001B[0m\u001B[0;34m\u001B[0m\u001B[0;34m\u001B[0m\u001B[0m\n\u001B[0m\u001B[1;32m   1650\u001B[0m \u001B[0;34m\u001B[0m\u001B[0m\n\u001B[1;32m   1651\u001B[0m \u001B[0;34m\u001B[0m\u001B[0m\n",
      "\u001B[0;31mValueError\u001B[0m: Input could not be cast to an at-least-1D NumPy array"
     ]
    },
    {
     "data": {
      "text/plain": "<Figure size 432x288 with 1 Axes>",
      "image/png": "[encoded data removed]"
     },
     "metadata": {
      "needs_background": "light"
     },
     "output_type": "display_data"
    }
   ],
   "source": [
    "    print(len(y_test), len(predictions))\n",
    "    #plt.plot(y_test.to_numpy()[:50], alpha=0.3, label=\"truth\", color=\"limegreen\")\n",
    "    plt.plot(predictions[:50], alpha=0.3, label=\"predicted\", color=\"red\")\n",
    "    #plt.semilogy()\n",
    "    plt.grid()\n",
    "    plt.legend()\n",
    "    plt.ylabel(\"e2eLatency\")\n",
    "    plt.xlabel(\"Time\")"
   ],
   "metadata": {
    "collapsed": false,
    "pycharm": {
     "name": "#%%\n"
    }
   }
  },
  {
   "cell_type": "code",
   "execution_count": 10,
   "outputs": [
    {
     "ename": "TypeError",
     "evalue": "'H2OStackedEnsembleEstimator' object is not subscriptable",
     "output_type": "error",
     "traceback": [
      "\u001B[0;31m---------------------------------------------------------------------------\u001B[0m",
      "\u001B[0;31mTypeError\u001B[0m                                 Traceback (most recent call last)",
      "\u001B[0;32m<ipython-input-10-931a2aeeb8eb>\u001B[0m in \u001B[0;36m<module>\u001B[0;34m\u001B[0m\n\u001B[0;32m----> 1\u001B[0;31m \u001B[0mautoml\u001B[0m\u001B[0;34m.\u001B[0m\u001B[0mexplain\u001B[0m\u001B[0;34m(\u001B[0m\u001B[0mautoml\u001B[0m\u001B[0;34m.\u001B[0m\u001B[0mleader\u001B[0m\u001B[0;34m)\u001B[0m\u001B[0;34m\u001B[0m\u001B[0;34m\u001B[0m\u001B[0m\n\u001B[0m",
      "\u001B[0;32m/usr/local/lib/python3.6/dist-packages/h2o/explanation/_explain.py\u001B[0m in \u001B[0;36mexplain\u001B[0;34m(models, frame, columns, top_n_features, include_explanations, exclude_explanations, plot_overrides, figsize, render, qualitative_colormap, sequential_colormap)\u001B[0m\n\u001B[1;32m   2313\u001B[0m     \u001B[0mplt\u001B[0m \u001B[0;34m=\u001B[0m \u001B[0mget_matplotlib_pyplot\u001B[0m\u001B[0;34m(\u001B[0m\u001B[0;32mFalse\u001B[0m\u001B[0;34m,\u001B[0m \u001B[0mraise_if_not_available\u001B[0m\u001B[0;34m=\u001B[0m\u001B[0;32mTrue\u001B[0m\u001B[0;34m)\u001B[0m\u001B[0;34m\u001B[0m\u001B[0;34m\u001B[0m\u001B[0m\n\u001B[1;32m   2314\u001B[0m     \u001B[0mis_aml\u001B[0m\u001B[0;34m,\u001B[0m \u001B[0mmodels_to_show\u001B[0m\u001B[0;34m,\u001B[0m \u001B[0mclassification\u001B[0m\u001B[0;34m,\u001B[0m \u001B[0mmultinomial_classification\u001B[0m\u001B[0;34m,\u001B[0m \u001B[0mmultiple_models\u001B[0m\u001B[0;34m,\u001B[0m\u001B[0;31m \u001B[0m\u001B[0;31m\\\u001B[0m\u001B[0;34m\u001B[0m\u001B[0;34m\u001B[0m\u001B[0m\n\u001B[0;32m-> 2315\u001B[0;31m     \u001B[0mtargets\u001B[0m\u001B[0;34m,\u001B[0m \u001B[0mtree_models_to_show\u001B[0m \u001B[0;34m=\u001B[0m \u001B[0m_process_models_input\u001B[0m\u001B[0;34m(\u001B[0m\u001B[0mmodels\u001B[0m\u001B[0;34m,\u001B[0m \u001B[0mframe\u001B[0m\u001B[0;34m)\u001B[0m\u001B[0;34m\u001B[0m\u001B[0;34m\u001B[0m\u001B[0m\n\u001B[0m\u001B[1;32m   2316\u001B[0m \u001B[0;34m\u001B[0m\u001B[0m\n\u001B[1;32m   2317\u001B[0m     \u001B[0;32mif\u001B[0m \u001B[0mcolumns\u001B[0m \u001B[0;32mis\u001B[0m \u001B[0;32mnot\u001B[0m \u001B[0;32mNone\u001B[0m \u001B[0;32mand\u001B[0m \u001B[0misinstance\u001B[0m\u001B[0;34m(\u001B[0m\u001B[0mcolumns\u001B[0m\u001B[0;34m,\u001B[0m \u001B[0mlist\u001B[0m\u001B[0;34m)\u001B[0m\u001B[0;34m:\u001B[0m\u001B[0;34m\u001B[0m\u001B[0;34m\u001B[0m\u001B[0m\n",
      "\u001B[0;32m/usr/local/lib/python3.6/dist-packages/h2o/explanation/_explain.py\u001B[0m in \u001B[0;36m_process_models_input\u001B[0;34m(models, frame)\u001B[0m\n\u001B[1;32m   2222\u001B[0m     \u001B[0mtree_models_to_show\u001B[0m \u001B[0;34m=\u001B[0m \u001B[0m_get_tree_models\u001B[0m\u001B[0;34m(\u001B[0m\u001B[0mmodels\u001B[0m\u001B[0;34m,\u001B[0m \u001B[0;36m1\u001B[0m \u001B[0;32mif\u001B[0m \u001B[0mis_aml\u001B[0m \u001B[0;32melse\u001B[0m \u001B[0mfloat\u001B[0m\u001B[0;34m(\u001B[0m\u001B[0;34m\"inf\"\u001B[0m\u001B[0;34m)\u001B[0m\u001B[0;34m)\u001B[0m\u001B[0;34m\u001B[0m\u001B[0;34m\u001B[0m\u001B[0m\n\u001B[1;32m   2223\u001B[0m     \u001B[0my\u001B[0m \u001B[0;34m=\u001B[0m \u001B[0m_get_xy\u001B[0m\u001B[0;34m(\u001B[0m\u001B[0mmodels_to_show\u001B[0m\u001B[0;34m[\u001B[0m\u001B[0;36m0\u001B[0m\u001B[0;34m]\u001B[0m\u001B[0;34m)\u001B[0m\u001B[0;34m[\u001B[0m\u001B[0;36m1\u001B[0m\u001B[0;34m]\u001B[0m\u001B[0;34m\u001B[0m\u001B[0;34m\u001B[0m\u001B[0m\n\u001B[0;32m-> 2224\u001B[0;31m     \u001B[0mclassification\u001B[0m \u001B[0;34m=\u001B[0m \u001B[0mframe\u001B[0m\u001B[0;34m[\u001B[0m\u001B[0my\u001B[0m\u001B[0;34m]\u001B[0m\u001B[0;34m.\u001B[0m\u001B[0misfactor\u001B[0m\u001B[0;34m(\u001B[0m\u001B[0;34m)\u001B[0m\u001B[0;34m[\u001B[0m\u001B[0;36m0\u001B[0m\u001B[0;34m]\u001B[0m\u001B[0;34m\u001B[0m\u001B[0;34m\u001B[0m\u001B[0m\n\u001B[0m\u001B[1;32m   2225\u001B[0m     \u001B[0mmultinomial_classification\u001B[0m \u001B[0;34m=\u001B[0m \u001B[0mclassification\u001B[0m \u001B[0;32mand\u001B[0m \u001B[0mframe\u001B[0m\u001B[0;34m[\u001B[0m\u001B[0my\u001B[0m\u001B[0;34m]\u001B[0m\u001B[0;34m.\u001B[0m\u001B[0mnlevels\u001B[0m\u001B[0;34m(\u001B[0m\u001B[0;34m)\u001B[0m\u001B[0;34m[\u001B[0m\u001B[0;36m0\u001B[0m\u001B[0;34m]\u001B[0m \u001B[0;34m>\u001B[0m \u001B[0;36m2\u001B[0m\u001B[0;34m\u001B[0m\u001B[0;34m\u001B[0m\u001B[0m\n\u001B[1;32m   2226\u001B[0m     \u001B[0mtargets\u001B[0m \u001B[0;34m=\u001B[0m \u001B[0;34m[\u001B[0m\u001B[0;32mNone\u001B[0m\u001B[0;34m]\u001B[0m\u001B[0;34m\u001B[0m\u001B[0;34m\u001B[0m\u001B[0m\n",
      "\u001B[0;31mTypeError\u001B[0m: 'H2OStackedEnsembleEstimator' object is not subscriptable"
     ]
    }
   ],
   "source": [],
   "metadata": {
    "collapsed": false,
    "pycharm": {
     "name": "#%%\n"
    }
   }
  }
 ],
 "metadata": {
  "kernelspec": {
   "display_name": "Python 3",
   "language": "python",
   "name": "python3"
  },
  "language_info": {
   "codemirror_mode": {
    "name": "ipython",
    "version": 2
   },
   "file_extension": ".py",
   "mimetype": "text/x-python",
   "name": "python",
   "nbconvert_exporter": "python",
   "pygments_lexer": "ipython2",
   "version": "2.7.6"
  }
 },
 "nbformat": 4,
 "nbformat_minor": 0
}