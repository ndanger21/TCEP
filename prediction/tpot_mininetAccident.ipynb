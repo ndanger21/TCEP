{
 "cells": [
  {
   "cell_type": "code",
   "execution_count": 1,
   "metadata": {},
   "outputs": [
    {
     "name": "stderr",
     "output_type": "stream",
     "text": [
      "/home/niels/PycharmProjects/pythonProject/venv/lib/python3.7/site-packages/tpot/builtins/__init__.py:36: UserWarning: Warning: optional dependency `torch` is not available. - skipping import of NN models.\n",
      "  warnings.warn(\"Warning: optional dependency `torch` is not available. - skipping import of NN models.\")\n"
     ]
    },
    {
     "name": "stdout",
     "output_type": "stream",
     "text": [
      "starting training at  02:44:04\n",
      "30 operators have been imported by TPOT.\n"
     ]
    },
    {
     "data": {
      "application/vnd.jupyter.widget-view+json": {
       "model_id": "",
       "version_major": 2,
       "version_minor": 0
      },
      "text/plain": [
       "Optimization Progress:   0%|          | 0/40 [00:00<?, ?pipeline/s]"
      ]
     },
     "metadata": {},
     "output_type": "display_data"
    },
    {
     "name": "stdout",
     "output_type": "stream",
     "text": [
      "Pipeline encountered that has previously been evaluated during the optimization process. Using the score from the previous evaluation.\n",
      "\n",
      "Generation 1 - Current Pareto front scores:\n",
      "\n",
      "-1\t-882.4234990436286\tRandomForestRegressor(input_matrix, RandomForestRegressor__bootstrap=False, RandomForestRegressor__max_features=1.0, RandomForestRegressor__min_samples_leaf=7, RandomForestRegressor__min_samples_split=7, RandomForestRegressor__n_estimators=100)\n",
      "finished after  11.55465024\n"
     ]
    }
   ],
   "source": [
    "import os\n",
    "\n",
    "import joblib\n",
    "from tpot.config import regressor_config_dict\n",
    "\n",
    "os.environ['OPENBLAS_NUM_THREADS'] = '1'\n",
    "\n",
    "import sklearn.model_selection\n",
    "import sklearn.metrics\n",
    "import numpy as np\n",
    "import pandas as pd\n",
    "import tpot\n",
    "from joblib import dump, load\n",
    "from verstack.stratified_continuous_split import scsplit\n",
    "import matplotlib.pyplot as plt\n",
    "import time as time\n",
    "import datetime as datetime\n",
    "\n",
    "if __name__ == \"__main__\":\n",
    "    hours = 8\n",
    "    time_mins = hours * 60\n",
    "    target_feature = \"eventRateOut\"\n",
    "    filename = \"mininet_accident_5s_combined_samples.csv\"\n",
    "\n",
    "    selected_features_throughput = [\"Relaxation\", \"Rizou\", \"ProducerConsumer\", \"Random\", \"GlobalOptimalBDP\", \"MDCEP\",\n",
    "                                \"operatorSelectivity\", \"eventRateIn\", \"processingLatencyMean\", \"processingLatencyStdDev\",\n",
    "                                \"networkParentLatencyMean\", \"brokerCPULoad\"]\n",
    "    selected_features_processing_latency = [\"Relaxation\", \"Rizou\", \"ProducerConsumer\", \"Random\", \"GlobalOptimalBDP\", \"MDCEP\",\n",
    "                                            \"eventSizeInKB\", \"operatorSelectivity\", \"interArrivalMean\", \"interArrivalStdDev\",\n",
    "                                            \"brokerCPULoad\", \"eventRateOut\"]\n",
    "\n",
    "    selected_dict = { \"eventRateOut\" : selected_features_throughput, \"processingLatencyMean\" : selected_features_processing_latency}\n",
    "\n",
    "\n",
    "    f = open(filename)\n",
    "    df = pd.read_csv(f, sep=\";\", header=0)\n",
    "    f.close()\n",
    "    df = df._get_numeric_data()\n",
    "\n",
    "    start_time = time.time()\n",
    "    print(\"starting training at \", datetime.datetime.now().strftime('%H:%M:%S'))\n",
    "    X, y = df[selected_dict[target_feature]], df[target_feature]\n",
    "    #train, valid = scsplit(df, df['continuous_column_name])\n",
    "    #X_train, X_test, y_train, y_test = scsplit(X, y, stratify = y)\n",
    "    X_train, X_test, y_train, y_test = sklearn.model_selection.train_test_split(X, y, shuffle=True)\n",
    "\n",
    "    #configure settings\n",
    "    # dask: avoid refitting same estimator on same data split if it has been fit before\n",
    "    # memory: If supplied, pipeline will cache each transformer after calling fit. This feature\n",
    "    #   is used to avoid computing the fit transformers within a pipeline if the parameters\n",
    "    #   and input data are identical with another fitted pipeline during optimization process.\n",
    "    regressor_config_dict.pop('sklearn.linear_model.LassoLarsCV') # remove since we suspect it to overfit\n",
    "\n",
    "    automl = tpot.TPOTRegressor(\n",
    "        config_dict=regressor_config_dict,\n",
    "        memory='auto',\n",
    "        subsample=1.0,\n",
    "        max_time_mins=time_mins, # total time\n",
    "        max_eval_time_mins=8, # default 5; time per pipeline\n",
    "        generations=100, population_size=100, verbosity=3, n_jobs=-1)\n",
    "\n",
    "    #run TPOT\n",
    "    automl.fit(X_train, y_train)\n",
    "    end_time = time.time()\n",
    "    predictions = automl.predict(X_test)\n",
    "    print(\"finished after \", end_time - start_time)"
   ]
  },
  {
   "cell_type": "code",
   "execution_count": null,
   "outputs": [],
   "source": [
    "    model_name = 'output/tpot_trained_pipeline_' + str(hours) + '_' + filename + '_' + target_feature + '.joblib'    #persist the trained pipeline\n",
    "    dump(automl.fitted_pipeline_, model_name)\n",
    "    automl.export('tpot_pipeline.py')"
   ],
   "metadata": {
    "collapsed": false,
    "pycharm": {
     "name": "#%%\n"
    }
   }
  },
  {
   "cell_type": "code",
   "execution_count": null,
   "outputs": [],
   "source": [
    "    print(\"pareto_front: \\n\", automl.pareto_front_fitted_pipelines_)\n",
    "    # best model\n",
    "    best_model = automl.fitted_pipeline_.steps[-1][1]\n",
    "    print(best_model)\n",
    "    # Train best_model on ENTIRE dataset to get feature importance\n",
    "    best_model.fit(X, y)\n",
    "    # feature importances\n",
    "    print(best_model.feature_importances_)\n",
    "\n",
    "    # Plot as barplot\n",
    "    positions= range(best_model.feature_importances_.shape[0])\n",
    "    plt.bar(positions, best_model.feature_importances_)\n",
    "    plt.show()"
   ],
   "metadata": {
    "collapsed": false,
    "pycharm": {
     "name": "#%%\n"
    }
   }
  },
  {
   "cell_type": "code",
   "execution_count": 1,
   "metadata": {
    "pycharm": {
     "name": "#%%\n"
    }
   },
   "outputs": [
    {
     "ename": "NameError",
     "evalue": "name 'automl' is not defined",
     "output_type": "error",
     "traceback": [
      "\u001B[0;31m---------------------------------------------------------------------------\u001B[0m",
      "\u001B[0;31mNameError\u001B[0m                                 Traceback (most recent call last)",
      "\u001B[0;32m/tmp/ipykernel_7144/1117042145.py\u001B[0m in \u001B[0;36m<module>\u001B[0;34m\u001B[0m\n\u001B[0;32m----> 1\u001B[0;31m \u001B[0mprint\u001B[0m\u001B[0;34m(\u001B[0m\u001B[0mautoml\u001B[0m\u001B[0;34m.\u001B[0m\u001B[0mfitted_pipeline_\u001B[0m\u001B[0;34m)\u001B[0m\u001B[0;34m\u001B[0m\u001B[0;34m\u001B[0m\u001B[0m\n\u001B[0m\u001B[1;32m      2\u001B[0m \u001B[0mprint\u001B[0m\u001B[0;34m(\u001B[0m\u001B[0;34m\"\\n\\n#######\\noptimized metric: \"\u001B[0m\u001B[0;34m,\u001B[0m \u001B[0mautoml\u001B[0m\u001B[0;34m.\u001B[0m\u001B[0mscoring_function\u001B[0m\u001B[0;34m)\u001B[0m\u001B[0;34m\u001B[0m\u001B[0;34m\u001B[0m\u001B[0m\n\u001B[1;32m      3\u001B[0m \u001B[0mprint\u001B[0m\u001B[0;34m(\u001B[0m\u001B[0mautoml\u001B[0m\u001B[0;34m.\u001B[0m\u001B[0mscore\u001B[0m\u001B[0;34m(\u001B[0m\u001B[0mX_test\u001B[0m\u001B[0;34m,\u001B[0m \u001B[0my_test\u001B[0m\u001B[0;34m)\u001B[0m\u001B[0;34m)\u001B[0m\u001B[0;34m\u001B[0m\u001B[0;34m\u001B[0m\u001B[0m\n\u001B[1;32m      4\u001B[0m \u001B[0;31m# test loading persisted model\u001B[0m\u001B[0;34m\u001B[0m\u001B[0;34m\u001B[0m\u001B[0;34m\u001B[0m\u001B[0m\n\u001B[1;32m      5\u001B[0m \u001B[0mfitted_pipeline_restored\u001B[0m \u001B[0;34m=\u001B[0m \u001B[0mjoblib\u001B[0m\u001B[0;34m.\u001B[0m\u001B[0mload\u001B[0m\u001B[0;34m(\u001B[0m\u001B[0mmodel_name\u001B[0m\u001B[0;34m)\u001B[0m\u001B[0;34m\u001B[0m\u001B[0;34m\u001B[0m\u001B[0m\n",
      "\u001B[0;31mNameError\u001B[0m: name 'automl' is not defined"
     ]
    }
   ],
   "source": [
    "    print(automl.fitted_pipeline_)\n",
    "    print(\"\\n\\n#######\\noptimized metric: \", automl.scoring_function)\n",
    "    #print(automl.score(X_test, y_test))\n",
    "    # test loading persisted model\n",
    "    fitted_pipeline_restored = joblib.load(model_name)\n",
    "    predictions = fitted_pipeline_restored.predict(X_test)\n",
    "    \n",
    "    mse = sklearn.metrics.mean_squared_error(y_test, predictions)\n",
    "    rmse = mse ** 0.5\n",
    "    mae = sklearn.metrics.mean_absolute_error(y_test, predictions)\n",
    "    mae_percentage = sklearn.metrics.mean_absolute_percentage_error(y_test, predictions)\n",
    "    median_ae =  sklearn.metrics.median_absolute_error(y_test, predictions)\n",
    "    r2 = sklearn.metrics.r2_score(y_test, predictions)\n",
    "    \n",
    "    print(\"r2 score:{}\".format(r2))\n",
    "    print(\"mean squared error: \", mse)\n",
    "    print(\"root mean squared error: \", rmse)\n",
    "    print(\"mean absolute error: \", mae)\n",
    "    print(\"median absolute error: \", median_ae)\n",
    "    print(\"mean absolute percentage error: \", mae_percentage)\n",
    "    print(\"explained variance score: \", sklearn.metrics.explained_variance_score(y_test, predictions))\n",
    "    \n",
    "    with open('tpot_' + str(hours) + 'h_' + filename + '_' + target_feature + '_scores.csv', 'w') as sc:\n",
    "        sc.write('framework,training_time,target_metric,RMSE,MSE,MAE,mean_abs_percentage_error,median_abs_error,r2,pipeline\\n')\n",
    "        sc.write('tpot,' + str(hours) + ',' + target_feature + ',' + str(rmse) + ',' + str(mse) + ',' + str(mae) + ','\n",
    "                 + str(mae_percentage) + ',' + str(median_ae) + ',' + str(r2) + ',' + str(best_model))"
   ]
  },
  {
   "cell_type": "code",
   "execution_count": 3,
   "metadata": {
    "pycharm": {
     "name": "#%%\n"
    }
   },
   "outputs": [
    {
     "name": "stdout",
     "output_type": "stream",
     "text": [
      "1728 1728\n"
     ]
    },
    {
     "data": {
      "text/plain": [
       "Text(0.5, 0, 'Time')"
      ]
     },
     "execution_count": 3,
     "metadata": {},
     "output_type": "execute_result"
    },
    {
     "data": {
      "image/png": "[encoded data removed]",
      "text/plain": [
       "<Figure size 432x288 with 1 Axes>"
      ]
     },
     "metadata": {
      "needs_background": "light"
     },
     "output_type": "display_data"
    }
   ],
   "source": [
    "\n",
    "    print(len(y_test), len(predictions))\n",
    "    plt.plot(y_test.to_numpy()[:50], alpha=0.3, label=\"truth\", color=\"limegreen\")\n",
    "    plt.plot(predictions[:50], alpha=0.3, label=\"predicted\", color=\"red\")\n",
    "    #plt.semilogy()\n",
    "    plt.grid()\n",
    "    plt.legend()\n",
    "    plt.ylabel(\"e2eLatency\")\n",
    "    plt.xlabel(\"Time\")"
   ]
  },
  {
   "cell_type": "code",
   "execution_count": null,
   "outputs": [],
   "source": [
    "    import PipelineProfiler\n",
    "\n",
    "    PipelineProfiler.plot_pipeline_matrix(fitted_pipeline_restored)"
   ],
   "metadata": {
    "collapsed": false,
    "pycharm": {
     "name": "#%%\n"
    }
   }
  },
  {
   "cell_type": "code",
   "execution_count": 2,
   "metadata": {
    "pycharm": {
     "name": "#%%\n"
    }
   },
   "outputs": [
    {
     "ename": "FileNotFoundError",
     "evalue": "[Errno 2] No such file or directory: 'output/tpot_trained_pipeline_8_yahoo_geni_5s_combined_samples.csv_eventRateOut.joblib'",
     "output_type": "error",
     "traceback": [
      "\u001B[0;31m---------------------------------------------------------------------------\u001B[0m",
      "\u001B[0;31mFileNotFoundError\u001B[0m                         Traceback (most recent call last)",
      "\u001B[0;32m/tmp/ipykernel_7144/2650359214.py\u001B[0m in \u001B[0;36m<module>\u001B[0;34m\u001B[0m\n\u001B[1;32m      1\u001B[0m \u001B[0;32mimport\u001B[0m \u001B[0mjoblib\u001B[0m\u001B[0;34m\u001B[0m\u001B[0;34m\u001B[0m\u001B[0m\n\u001B[1;32m      2\u001B[0m \u001B[0;31m# test loading persisted model\u001B[0m\u001B[0;34m\u001B[0m\u001B[0;34m\u001B[0m\u001B[0;34m\u001B[0m\u001B[0m\n\u001B[0;32m----> 3\u001B[0;31m \u001B[0mfitted_pipeline_restored\u001B[0m \u001B[0;34m=\u001B[0m \u001B[0mjoblib\u001B[0m\u001B[0;34m.\u001B[0m\u001B[0mload\u001B[0m\u001B[0;34m(\u001B[0m\u001B[0;34m'output/tpot_trained_pipeline_8_yahoo_geni_5s_combined_samples.csv_eventRateOut.joblib'\u001B[0m\u001B[0;34m)\u001B[0m\u001B[0;34m\u001B[0m\u001B[0;34m\u001B[0m\u001B[0m\n\u001B[0m\u001B[1;32m      4\u001B[0m \u001B[0;31m#import pickle\u001B[0m\u001B[0;34m\u001B[0m\u001B[0;34m\u001B[0m\u001B[0;34m\u001B[0m\u001B[0m\n\u001B[1;32m      5\u001B[0m \u001B[0;31m#pickle.dump(automl.fitted_pipeline_, open(filename, 'wb'))\u001B[0m\u001B[0;34m\u001B[0m\u001B[0;34m\u001B[0m\u001B[0;34m\u001B[0m\u001B[0m\n",
      "\u001B[0;32m~/git/TCEP/venv/lib/python3.7/site-packages/joblib/numpy_pickle.py\u001B[0m in \u001B[0;36mload\u001B[0;34m(filename, mmap_mode)\u001B[0m\n\u001B[1;32m    575\u001B[0m             \u001B[0mobj\u001B[0m \u001B[0;34m=\u001B[0m \u001B[0m_unpickle\u001B[0m\u001B[0;34m(\u001B[0m\u001B[0mfobj\u001B[0m\u001B[0;34m)\u001B[0m\u001B[0;34m\u001B[0m\u001B[0;34m\u001B[0m\u001B[0m\n\u001B[1;32m    576\u001B[0m     \u001B[0;32melse\u001B[0m\u001B[0;34m:\u001B[0m\u001B[0;34m\u001B[0m\u001B[0;34m\u001B[0m\u001B[0m\n\u001B[0;32m--> 577\u001B[0;31m         \u001B[0;32mwith\u001B[0m \u001B[0mopen\u001B[0m\u001B[0;34m(\u001B[0m\u001B[0mfilename\u001B[0m\u001B[0;34m,\u001B[0m \u001B[0;34m'rb'\u001B[0m\u001B[0;34m)\u001B[0m \u001B[0;32mas\u001B[0m \u001B[0mf\u001B[0m\u001B[0;34m:\u001B[0m\u001B[0;34m\u001B[0m\u001B[0;34m\u001B[0m\u001B[0m\n\u001B[0m\u001B[1;32m    578\u001B[0m             \u001B[0;32mwith\u001B[0m \u001B[0m_read_fileobject\u001B[0m\u001B[0;34m(\u001B[0m\u001B[0mf\u001B[0m\u001B[0;34m,\u001B[0m \u001B[0mfilename\u001B[0m\u001B[0;34m,\u001B[0m \u001B[0mmmap_mode\u001B[0m\u001B[0;34m)\u001B[0m \u001B[0;32mas\u001B[0m \u001B[0mfobj\u001B[0m\u001B[0;34m:\u001B[0m\u001B[0;34m\u001B[0m\u001B[0;34m\u001B[0m\u001B[0m\n\u001B[1;32m    579\u001B[0m                 \u001B[0;32mif\u001B[0m \u001B[0misinstance\u001B[0m\u001B[0;34m(\u001B[0m\u001B[0mfobj\u001B[0m\u001B[0;34m,\u001B[0m \u001B[0mstr\u001B[0m\u001B[0;34m)\u001B[0m\u001B[0;34m:\u001B[0m\u001B[0;34m\u001B[0m\u001B[0;34m\u001B[0m\u001B[0m\n",
      "\u001B[0;31mFileNotFoundError\u001B[0m: [Errno 2] No such file or directory: 'output/tpot_trained_pipeline_8_yahoo_geni_5s_combined_samples.csv_eventRateOut.joblib'"
     ]
    }
   ],
   "source": [
    "\n",
    "'''\n",
    "    import joblib\n",
    "    # test loading persisted model\n",
    "    fitted_pipeline_restored = joblib.load('output/tpot_trained_pipeline_8_yahoo_geni_5s_combined_samples.csv_eventRateOut.joblib')\n",
    "    #import pickle\n",
    "    #pickle.dump(automl.fitted_pipeline_, open(filename, 'wb'))\n",
    "    #fitted_pipeline_restored = pickle.load(open(filename))\n",
    "    predictions = fitted_pipeline_restored.predict(X_test)\n",
    "    import sklearn.metrics\n",
    "    import sklearn.model_selection\n",
    "    import numpy as np\n",
    "    import pandas as pd\n",
    "    hours = 8\n",
    "    time_mins = hours * 60\n",
    "    target_feature = \"eventRateOut\"\n",
    "    filename = \"yahoo_geni_5s_combined_samples.csv\"\n",
    "\n",
    "    selected_features_throughput = [\"Relaxation\", \"Rizou\", \"ProducerConsumer\", \"Random\", \"GlobalOptimalBDP\", \"MDCEP\",\n",
    "                                    \"operatorSelectivity\", \"eventRateIn\", \"processingLatencyMean\", \"processingLatencyStdDev\"]\n",
    "    selected_features_processing_latency = [\"Relaxation\", \"Rizou\", \"ProducerConsumer\", \"Random\", \"GlobalOptimalBDP\", \"MDCEP\",\n",
    "                                            \"eventSizeInKB\", \"operatorSelectivity\", \"interArrivalMean\", \"interArrivalStdDev\",\n",
    "                                            \"brokerCPULoad\", \"eventRateOut\"]\n",
    "\n",
    "    selected_dict = { \"eventRateOut\" : selected_features_throughput, \"processingLatencyMean\" : selected_features_processing_latency}\n",
    "\n",
    "\n",
    "    f = open('../../../../' + filename)\n",
    "    df = pd.read_csv(f, sep=\";\", header=0)\n",
    "    f.close()\n",
    "    df = df._get_numeric_data()\n",
    "\n",
    "    X, y = df[selected_dict[target_feature]], df[target_feature]\n",
    "    X_train, X_test, y_train, y_test = sklearn.model_selection.train_test_split(X, y, shuffle=True)\n",
    "    mse = sklearn.metrics.mean_squared_error(y_test, predictions)\n",
    "    rmse = mse ** 0.5\n",
    "    mae = sklearn.metrics.mean_absolute_error(y_test, predictions)\n",
    "    mae_percentage = sklearn.metrics.mean_absolute_percentage_error(y_test, predictions)\n",
    "    median_ae =  sklearn.metrics.median_absolute_error(y_test, predictions)\n",
    "    r2 = sklearn.metrics.r2_score(y_test, predictions)\n",
    "\n",
    "    print(\"r2 score:{}\".format(r2))\n",
    "    print(\"mean squared error: \", mse)\n",
    "    print(\"root mean squared error: \", rmse)\n",
    "    print(\"mean absolute error: \", mae)\n",
    "    print(\"median absolute error: \", median_ae)\n",
    "    print(\"mean absolute percentage error: \", mae_percentage)\n",
    "    print(\"explained variance score: \", sklearn.metrics.explained_variance_score(y_test, predictions))\n",
    "\n",
    "    with open('tpot_' + str(hours) + 'h_' + filename + '_' + target_feature + '_scores.csv', 'w') as sc:\n",
    "        sc.write('framework,training_time,target_metric,RMSE,MSE,MAE,mean_abs_percentage_error,median_abs_error,r2\\n')\n",
    "        sc.write('tpot,' + str(hours) + ',' + target_feature + ',' + str(rmse) + ',' + str(mse) + ',' + str(mae) + ',' + str(mae_percentage) + ',' + str(median_ae) + ',' + str(r2))\n",
    "'''"
   ]
  }
 ],
 "metadata": {
  "kernelspec": {
   "display_name": "Python 3",
   "language": "python",
   "name": "python3"
  },
  "language_info": {
   "codemirror_mode": {
    "name": "ipython",
    "version": 3
   },
   "file_extension": ".py",
   "mimetype": "text/x-python",
   "name": "python",
   "nbconvert_exporter": "python",
   "pygments_lexer": "ipython3",
   "version": "3.7.5"
  }
 },
 "nbformat": 4,
 "nbformat_minor": 1
}