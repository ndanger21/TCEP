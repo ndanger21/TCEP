{
 "cells": [
  {
   "cell_type": "code",
   "execution_count": 7,
   "metadata": {},
   "outputs": [],
   "source": [
    "# Author: Benedikt Lins\n",
    "# Modified by: Niels Danger\n",
    "\n",
    "import numpy as np\n",
    "import pandas as pd\n",
    "import datetime as dt\n",
    "import matplotlib.pyplot as plt\n",
    "import os\n",
    "\n",
    "\n",
    "NUM_PUBLISHERS = int(8)\n",
    "SIMULATION_TIME = int(30) #minutes\n",
    "NUM_CAMPAIGNS =  int(20)\n",
    "ADS_PER_CAMPAIGN =  int(200)\n",
    "NUM_PAGES = int(50)\n",
    "NUM_USERS = int(100)\n",
    "START_EVENT_RATE = int(100) # events per second\n",
    "TRACES_SAVE_PATH = os.getcwd()\n",
    "AD_TYPES = [\"banner\", \"modal\", \"sponsored-search\", \"mail\", \"mobile\"]\n",
    "EVENT_TYPES = [0,1,2]#[\"view\", \"click\", \"purchase\"]\n",
    "\n",
    "def make_ids(num=100):\n",
    "    out = []\n",
    "    for _ in range(num):\n",
    "        #out.append(str(uuid.uuid4()))\n",
    "        out.append(_)\n",
    "    return out\n",
    "\n",
    "\n",
    "def make_event(time, u_ids, p_ids, a_ids):\n",
    "    out = []\n",
    "    out.append(time)\n",
    "    out.append(np.random.choice(u_ids))\n",
    "    out.append(np.random.choice(p_ids))\n",
    "    out.append(np.random.choice(a_ids))\n",
    "    out.append(np.random.choice(AD_TYPES))\n",
    "    out.append(np.random.choice(EVENT_TYPES))\n",
    "    return out\n",
    "\n",
    "def rnd_campaign(adToCampaign, campaignIds):\n",
    "    selection_list = []\n",
    "    addsPerCampaign = {}\n",
    "    for i in campaignIds:\n",
    "        addsPerCampaign[i] = 0\n",
    "    for ad in adToCampaign:\n",
    "        addsPerCampaign[adToCampaign[ad]] += 1\n",
    "    for camp in addsPerCampaign:\n",
    "        if addsPerCampaign[camp] < ADS_PER_CAMPAIGN:\n",
    "            selection_list.append(camp)\n",
    "    return np.random.choice(selection_list)\n",
    "\n",
    "def get_random_interval(start, totalEnd, steps):\n",
    "    end = np.random.uniform(low=0.1, high=0.25)*totalEnd+start\n",
    "    return np.arange(start, end, steps)\n",
    "\n",
    "def createEventTraceNew(numPublishers=8):\n",
    "    time = 0 #sec\n",
    "    endTime = SIMULATION_TIME * 60 #sec\n",
    "    campaign_ids = make_ids(NUM_CAMPAIGNS)\n",
    "    adToCampaign = {}\n",
    "    adToCampaignOut = []\n",
    "    ad_ids = make_ids(NUM_CAMPAIGNS*ADS_PER_CAMPAIGN)\n",
    "    for ad in ad_ids:\n",
    "        camp = rnd_campaign(adToCampaign, campaign_ids)\n",
    "        adToCampaignOut.append([ad, camp])\n",
    "        adToCampaign[ad] = camp\n",
    "    user_ids = make_ids(NUM_USERS)\n",
    "    page_ids = make_ids(NUM_PAGES)\n",
    "    start_interval = 1.0 / START_EVENT_RATE\n",
    "    interval_s = start_interval\n",
    "    times = np.arange(start=0, stop=endTime*0.1, step=interval_s)\n",
    "    interval_s = 0.8 * start_interval\n",
    "    times = np.concatenate((times, np.arange(start=times[-1]+interval_s, stop=endTime*0.2, step=interval_s)))\n",
    "    interval_s = 0.4 * start_interval\n",
    "    times = np.concatenate((times, np.arange(start=times[-1]+interval_s, stop=endTime*0.3, step=interval_s)))\n",
    "    interval_s = 0.2 * start_interval\n",
    "    times = np.concatenate((times, np.arange(start=times[-1]+interval_s, stop=endTime*0.4, step=interval_s)))\n",
    "    interval_s = 0.5 * start_interval\n",
    "    times = np.concatenate((times, np.arange(start=times[-1]+interval_s, stop=endTime*0.5, step=interval_s)))\n",
    "    interval_s = 0.3 * start_interval\n",
    "    times = np.concatenate((times, np.arange(start=times[-1]+interval_s, stop=endTime*0.6, step=interval_s)))\n",
    "    interval_s = 0.2 * start_interval\n",
    "    times = np.concatenate((times, np.arange(start=times[-1]+interval_s, stop=endTime*0.8, step=interval_s)))\n",
    "    interval_s = 0.5 * start_interval\n",
    "    times = np.concatenate((times, np.arange(start=times[-1]+interval_s, stop=endTime, step=interval_s)))\n",
    "    times = np.round(times, 8)\n",
    "    print(\"times are: (count: \", len(times), \")\\n\", times)\n",
    "\n",
    "    traces = {} # contains lists tuples (time, user-id, page-id, ad-id, ad-type, event-type)\n",
    "    for t in times:\n",
    "        for pub in range(numPublishers):\n",
    "            if pub not in traces:\n",
    "                traces[pub] = []\n",
    "            traces[pub].append(make_event(t, user_ids, page_ids, ad_ids))\n",
    "        if t % 10000 == 0:\n",
    "            print(\"10000 more traces lines generated at {}\",dt.datetime.now())\n",
    "    for key in traces:\n",
    "        tmp = pd.DataFrame(traces[key], columns=[\"Time\",\"UID\",\"PID\",\"AID\",\"AType\",\"EType\"])\n",
    "        next_event = []\n",
    "        rows = tmp.values\n",
    "        for i in range(rows.shape[0]-1):\n",
    "            current_time = rows[i,:].ravel()[0]\n",
    "            next_time = rows[i+1,:].ravel()[0]\n",
    "            diff = next_time - current_time\n",
    "            next_event.append(diff)\n",
    "        next_event.append(0)\n",
    "        tmp[\"Next\"] = next_event\n",
    "        traces[key] = tmp\n",
    "    return traces, adToCampaignOut\n",
    "\n",
    "def write_traces(traces, campDict):\n",
    "    for key in traces:\n",
    "        i = key+1\n",
    "        traces[key].to_csv(\"%s/yahooTraceP%s.csv\" % (TRACES_SAVE_PATH, i), sep=\",\", index=False)\n",
    "    df = pd.DataFrame(campDict, columns=[\"AID\",\"CID\"])\n",
    "    df.to_csv(\"%s/yahooJoins.csv\" % (TRACES_SAVE_PATH), sep=\",\", index=False)\n"
   ]
  },
  {
   "cell_type": "code",
   "execution_count": 8,
   "outputs": [
    {
     "name": "stdout",
     "output_type": "stream",
     "text": [
      "sec1 start:  179.99 sec1 end:  360.0\n",
      "sec1 start:  359.99800000022003 sec1 end:  720.0\n",
      "times are: (count:  523502 )\n",
      " [0.000000e+00 1.000000e-02 2.000000e-02 ... 1.799990e+03 1.799995e+03\n",
      " 1.800000e+03]\n",
      "[1.75 1.76 1.77 1.78 1.79 1.8  1.81 1.82 1.83 1.84 1.85 1.86 1.87 1.88\n",
      " 1.89]\n"
     ]
    }
   ],
   "source": [
    "traces, joinDict = createEventTraceNew(numPublishers=NUM_PUBLISHERS)\n",
    "write_traces(traces, joinDict)"
   ],
   "metadata": {
    "collapsed": false,
    "pycharm": {
     "name": "#%%\n"
    }
   }
  },
  {
   "cell_type": "code",
   "execution_count": 9,
   "outputs": [
    {
     "data": {
      "text/plain": "   Time  UID  PID   AID   AType  EType  Next\n0  0.00   75   43  1214    mail      0  0.01\n1  0.01   22   23   794   modal      1  0.01\n2  0.02   49    9   414  banner      0  0.01\n3  0.03   64   43  2663   modal      1  0.01\n4  0.04   56   39  3542   modal      1  0.01",
      "text/html": "<div>\n<style scoped>\n    .dataframe tbody tr th:only-of-type {\n        vertical-align: middle;\n    }\n\n    .dataframe tbody tr th {\n        vertical-align: top;\n    }\n\n    .dataframe thead th {\n        text-align: right;\n    }\n</style>\n<table border=\"1\" class=\"dataframe\">\n  <thead>\n    <tr style=\"text-align: right;\">\n      <th></th>\n      <th>Time</th>\n      <th>UID</th>\n      <th>PID</th>\n      <th>AID</th>\n      <th>AType</th>\n      <th>EType</th>\n      <th>Next</th>\n    </tr>\n  </thead>\n  <tbody>\n    <tr>\n      <th>0</th>\n      <td>0.00</td>\n      <td>75</td>\n      <td>43</td>\n      <td>1214</td>\n      <td>mail</td>\n      <td>0</td>\n      <td>0.01</td>\n    </tr>\n    <tr>\n      <th>1</th>\n      <td>0.01</td>\n      <td>22</td>\n      <td>23</td>\n      <td>794</td>\n      <td>modal</td>\n      <td>1</td>\n      <td>0.01</td>\n    </tr>\n    <tr>\n      <th>2</th>\n      <td>0.02</td>\n      <td>49</td>\n      <td>9</td>\n      <td>414</td>\n      <td>banner</td>\n      <td>0</td>\n      <td>0.01</td>\n    </tr>\n    <tr>\n      <th>3</th>\n      <td>0.03</td>\n      <td>64</td>\n      <td>43</td>\n      <td>2663</td>\n      <td>modal</td>\n      <td>1</td>\n      <td>0.01</td>\n    </tr>\n    <tr>\n      <th>4</th>\n      <td>0.04</td>\n      <td>56</td>\n      <td>39</td>\n      <td>3542</td>\n      <td>modal</td>\n      <td>1</td>\n      <td>0.01</td>\n    </tr>\n  </tbody>\n</table>\n</div>"
     },
     "execution_count": 9,
     "metadata": {},
     "output_type": "execute_result"
    }
   ],
   "source": [
    "traces[0].head()"
   ],
   "metadata": {
    "collapsed": false,
    "pycharm": {
     "name": "#%%\n"
    }
   }
  },
  {
   "cell_type": "code",
   "execution_count": 17,
   "outputs": [
    {
     "data": {
      "text/plain": "Text(0, 0.5, '#EventsPerSecond')"
     },
     "execution_count": 17,
     "metadata": {},
     "output_type": "execute_result"
    },
    {
     "data": {
      "text/plain": "<Figure size 432x288 with 1 Axes>",
      "image/png": "[encoded data removed]"
     },
     "metadata": {
      "needs_background": "light"
     },
     "output_type": "display_data"
    }
   ],
   "source": [
    "plt.plot(traces[0].Time, 1/traces[0].Next, linewidth=2)\n",
    "plt.grid()\n",
    "plt.xlabel(\"Simulation Time(sec)\", fontsize=16)\n",
    "plt.ylabel(\"#EventsPerSecond\", fontsize=16)\n",
    "plt.savefig(str(os.getcwd()) + \"/YahooEventRates.pdf\", dpi=500)\n",
    "\n",
    "\n"
   ],
   "metadata": {
    "collapsed": false,
    "pycharm": {
     "name": "#%%\n"
    }
   }
  }
 ],
 "metadata": {
  "kernelspec": {
   "display_name": "Python 3",
   "language": "python",
   "name": "python3"
  },
  "language_info": {
   "codemirror_mode": {
    "name": "ipython",
    "version": 3
   },
   "file_extension": ".py",
   "mimetype": "text/x-python",
   "name": "python",
   "nbconvert_exporter": "python",
   "pygments_lexer": "ipython3",
   "version": "3.7.3"
  }
 },
 "nbformat": 4,
 "nbformat_minor": 2
}